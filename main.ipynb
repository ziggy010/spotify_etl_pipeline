{
 "cells": [
  {
   "cell_type": "code",
   "execution_count": null,
   "metadata": {},
   "outputs": [],
   "source": [
    "import spotipy;\n",
    "from spotipy.oauth2 import SpotifyClientCredentials\n",
    "import pandas as pd;\n",
    "pd.set_option('display.width', 1000);"
   ]
  },
  {
   "cell_type": "code",
   "execution_count": null,
   "metadata": {},
   "outputs": [],
   "source": [
    "client_credentials_manager = SpotifyClientCredentials(client_id='', client_secret='');\n",
    "sp = spotipy.Spotify(client_credentials_manager=client_credentials_manager);"
   ]
  },
  {
   "cell_type": "code",
   "execution_count": null,
   "metadata": {},
   "outputs": [],
   "source": [
    "playlist_link = 'https://open.spotify.com/playlist/1SXABvBG8yUPLpEyRPwXSN?si=hdUnlmpmQyCnPSpCnAWT8Q';\n",
    "playlist_uri = playlist_link.split('/')[-1].split('?')[0];"
   ]
  },
  {
   "cell_type": "code",
   "execution_count": null,
   "metadata": {},
   "outputs": [],
   "source": [
    "data = sp.playlist(playlist_uri);"
   ]
  },
  {
   "cell_type": "code",
   "execution_count": null,
   "metadata": {},
   "outputs": [],
   "source": [
    "song_list = [];\n",
    "\n",
    "for item in data['tracks']['items']:\n",
    "    for key,value in item.items():\n",
    "        if key == 'track':\n",
    "            song_id = value['id'];\n",
    "            song_name = value['name'];\n",
    "            song_release_date = value['album']['release_date'];\n",
    "            song_url = value['external_urls']['spotify'];\n",
    "            song_duration = value['duration_ms'];\n",
    "            song_popularity = value['popularity'];\n",
    "            song_element = {\n",
    "                'song_id' : song_id,\n",
    "                'song_name' : song_name,\n",
    "                'song_release_date' : song_release_date,\n",
    "                'song_url' : song_url,\n",
    "                'song_duration' : song_duration,\n",
    "                'song_popularity' : song_popularity,\n",
    "                'album_id' : value['album']['id'],\n",
    "            }\n",
    "            song_list.append(song_element);\n",
    "\n",
    "\n",
    "song_df = pd.DataFrame.from_dict(song_list);\n",
    "song_df['song_release_date'] = pd.to_datetime(song_df['song_release_date']);"
   ]
  },
  {
   "cell_type": "code",
   "execution_count": null,
   "metadata": {},
   "outputs": [],
   "source": [
    "artist_list = [];\n",
    "\n",
    "for row in data['tracks']['items']:\n",
    "    for key,value in row.items():\n",
    "        if key == 'track':\n",
    "            for item in value['artists']:\n",
    "                artist_id = item['id'];\n",
    "                artist_name = item['name'];\n",
    "                artist_uri = item['uri'];\n",
    "                artist_href = item['href'];\n",
    "                artist_element = {\n",
    "                    'artist_id' : artist_id,\n",
    "                    'artist_name' : artist_name,\n",
    "                    'artist_uri' : artist_uri,\n",
    "                    'artist_href' : artist_href\n",
    "                }\n",
    "                artist_list.append(artist_element);\n",
    "\n",
    "artist_df = pd.DataFrame.from_dict(artist_list);\n",
    "artist_df = artist_df.drop_duplicates(subset=['artist_id']);"
   ]
  },
  {
   "cell_type": "code",
   "execution_count": null,
   "metadata": {},
   "outputs": [],
   "source": [
    "album_list = [];\n",
    "\n",
    "for row in data['tracks']['items']:\n",
    "    for key,value in row.items():\n",
    "        if key == 'track':\n",
    "            album_element = {\n",
    "                'album_id' : value['album']['id'],\n",
    "                'album_name' : value['album']['name'],\n",
    "                'album_release_date' : value['album']['release_date'],\n",
    "                'album_total_tracks' : value['album']['total_tracks'],\n",
    "                'album_url' : value['album']['href']\n",
    "            }\n",
    "            album_list.append(album_element);\n",
    "\n",
    "album_df = pd.DataFrame.from_dict(album_list);\n",
    "album_df = album_df.drop_duplicates(subset=['album_id']);\n",
    "album_df['album_release_date'] = pd.to_datetime(album_df['album_release_date']);"
   ]
  },
  {
   "cell_type": "code",
   "execution_count": null,
   "metadata": {},
   "outputs": [],
   "source": [
    "print(song_df);"
   ]
  },
  {
   "cell_type": "code",
   "execution_count": null,
   "metadata": {},
   "outputs": [],
   "source": [
    "print(artist_df);"
   ]
  },
  {
   "cell_type": "code",
   "execution_count": null,
   "metadata": {},
   "outputs": [],
   "source": [
    "print(album_df);"
   ]
  },
  {
   "cell_type": "code",
   "execution_count": null,
   "metadata": {},
   "outputs": [],
   "source": []
  },
  {
   "cell_type": "code",
   "execution_count": null,
   "metadata": {},
   "outputs": [],
   "source": []
  }
 ],
 "metadata": {
  "kernelspec": {
   "display_name": "Python 3",
   "language": "python",
   "name": "python3"
  },
  "language_info": {
   "codemirror_mode": {
    "name": "ipython",
    "version": 3
   },
   "file_extension": ".py",
   "mimetype": "text/x-python",
   "name": "python",
   "nbconvert_exporter": "python",
   "pygments_lexer": "ipython3",
   "version": "3.9.1"
  }
 },
 "nbformat": 4,
 "nbformat_minor": 2
}
